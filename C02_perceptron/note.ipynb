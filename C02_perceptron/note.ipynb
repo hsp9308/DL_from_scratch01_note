{
 "cells": [
  {
   "cell_type": "markdown",
   "id": "968d7757",
   "metadata": {},
   "source": [
    "# Chapter 2. Perceptron"
   ]
  },
  {
   "cell_type": "markdown",
   "id": "f9a26a06",
   "metadata": {},
   "source": [
    "Perceptron : Output $y=$ 0 or 1 values returned.\n",
    "\n",
    "- $x_1, x_2, ...$ : input values. 0 or 1.\n",
    "- $\\theta$ : Threshold\n",
    "\n",
    "For 2 input variables $(x_1,x_2)$,<br>\n",
    "$y=f(w_1 x_1 + w_2 x_2).$\n",
    "\n",
    "$y = 1 \\, (w_1 x_1 + w_2 x_2 > \\theta )$, <br>\n",
    "$y = 0 \\, (w_1 x_1 + w_2 x_2 \\leq \\theta )$."
   ]
  },
  {
   "cell_type": "code",
   "execution_count": 4,
   "id": "405f919f",
   "metadata": {},
   "outputs": [],
   "source": [
    "import numpy as np"
   ]
  },
  {
   "cell_type": "code",
   "execution_count": 1,
   "id": "7e45f138",
   "metadata": {},
   "outputs": [],
   "source": [
    "# Example 1 : And gate\n",
    "# y = 1 (x1 = x2 = 1)\n",
    "# y = 0 (else)\n",
    "# Parameters (w1, w2, theta) can take various combinations. \n",
    "# Here, a example (0.5,0.5,0.7) is shown.\n",
    "\n",
    "def AND(x1, x2):\n",
    "    w1, w2, theta = 0.5, 0.5, 0.7\n",
    "    val = x1*w1 + x2*w2\n",
    "    if val > theta:\n",
    "        return 1\n",
    "    else:\n",
    "        return 0"
   ]
  },
  {
   "cell_type": "code",
   "execution_count": 3,
   "id": "21bdebe4",
   "metadata": {},
   "outputs": [
    {
     "name": "stdout",
     "output_type": "stream",
     "text": [
      "0\n",
      "0\n",
      "0\n",
      "1\n"
     ]
    }
   ],
   "source": [
    "print(AND(0,0))\n",
    "print(AND(1,0))\n",
    "print(AND(0,1))\n",
    "print(AND(1,1))"
   ]
  },
  {
   "cell_type": "markdown",
   "id": "865fbc4d",
   "metadata": {},
   "source": [
    "Instead of threshold, we introduce 'bias' $b$.\n",
    "\n",
    "$y = f(w_1 x_1 + w_2 x_2 + b)$\n",
    "\n",
    "$y = 1 \\, (w_1 x_1 + w_2 x_2 + b > 0 )$, <br>\n",
    "$y = 0 \\, (w_1 x_1 + w_2 x_2 + b \\leq 0 )$."
   ]
  },
  {
   "cell_type": "code",
   "execution_count": 5,
   "id": "a7b8dbcd",
   "metadata": {},
   "outputs": [
    {
     "name": "stdout",
     "output_type": "stream",
     "text": [
      "0.5\n",
      "-0.19999999999999996\n"
     ]
    }
   ],
   "source": [
    "import numpy as np\n",
    "\n",
    "x = np.array([0,1])\n",
    "w = np.array([0.5,0.5])\n",
    "b = -0.7\n",
    "w*x\n",
    "\n",
    "print(np.sum(w*x))\n",
    "print(np.sum(w*x)+b)"
   ]
  },
  {
   "cell_type": "code",
   "execution_count": 10,
   "id": "3bcc5e62",
   "metadata": {},
   "outputs": [],
   "source": [
    "# Bias-introduced definition of AND gate\n",
    "\n",
    "def AND(x1, x2):\n",
    "    x = np.array([x1,x2])\n",
    "    w = np.array([0.5,0.5])\n",
    "    b = -0.7\n",
    "    val = np.sum(w*x) + b\n",
    "    if val > 0:\n",
    "        return 1\n",
    "    else:\n",
    "        return 0"
   ]
  },
  {
   "cell_type": "code",
   "execution_count": 11,
   "id": "8e14e979",
   "metadata": {},
   "outputs": [
    {
     "name": "stdout",
     "output_type": "stream",
     "text": [
      "1\n",
      "1\n",
      "1\n",
      "0\n"
     ]
    }
   ],
   "source": [
    "# Example 2: NAND gate\n",
    "# y = 0 if x1 = x2 = 0\n",
    "# y = 1 else\n",
    "# Simply, NOT AND. \n",
    "# We can easily define it by flipping the sign of parameters. \n",
    "\n",
    "def NAND(x1, x2):\n",
    "    x = np.array([x1,x2])\n",
    "    w = np.array([-0.5,-0.5])\n",
    "    b = 0.7\n",
    "    val = np.sum(w*x) + b\n",
    "    if val > 0:\n",
    "        return 1\n",
    "    else:\n",
    "        return 0\n",
    "\n",
    "test_set = [(0,0), (0,1), (1,0), (1,1)]\n",
    "\n",
    "for x1, x2 in test_set:\n",
    "    print(NAND(x1,x2))"
   ]
  },
  {
   "cell_type": "code",
   "execution_count": 13,
   "id": "03533a81",
   "metadata": {},
   "outputs": [
    {
     "name": "stdout",
     "output_type": "stream",
     "text": [
      "0\n",
      "1\n",
      "1\n",
      "1\n"
     ]
    }
   ],
   "source": [
    "# Example 3: OR gate\n",
    "# y = 1 if x1 = 1 or x2 = 1\n",
    "\n",
    "def OR(x1,x2):\n",
    "    x = np.array([x1,x2])\n",
    "    w = np.array([0.5,0.5])\n",
    "    b = -0.2\n",
    "    val = np.sum(w*x) + b\n",
    "    if val > 0:\n",
    "        return 1\n",
    "    else:\n",
    "        return 0\n",
    "\n",
    "test_set = [(0,0), (0,1), (1,0), (1,1)]\n",
    "\n",
    "for x1, x2 in test_set:\n",
    "    print(OR(x1,x2))"
   ]
  },
  {
   "cell_type": "markdown",
   "id": "2fb157aa",
   "metadata": {},
   "source": [
    "NOTE : Perceptron make two regions in the two-dimensional space by drawing a straight line.\n",
    "\n",
    "$y = 1$ if (x1,x2) is above the line. <br>\n",
    "$y = 0$ else."
   ]
  },
  {
   "cell_type": "code",
   "execution_count": 17,
   "id": "f221c7fb",
   "metadata": {},
   "outputs": [
    {
     "data": {
      "image/png": "[encoded data removed]",
      "text/plain": [
       "<Figure size 432x288 with 1 Axes>"
      ]
     },
     "metadata": {
      "needs_background": "light"
     },
     "output_type": "display_data"
    }
   ],
   "source": [
    "# OR gate figure\n",
    "import matplotlib.pyplot as plt\n",
    "import numpy as np\n",
    "\n",
    "x1 = np.arange(-2,3,0.1)\n",
    "y1 = -x1 +0.2*2.0\n",
    "\n",
    "x2 = np.array([0,0,1,1])\n",
    "y2 = np.array([0,1,0,1])\n",
    "\n",
    "plt.plot(x1,y1, label=\"OR\")\n",
    "plt.plot(x2,y2, 'bo')\n",
    "plt.xlabel(\"$x_1$\")\n",
    "plt.ylabel(\"$x_2$\")\n",
    "plt.title(\"NAND gate\")\n",
    "plt.show()"
   ]
  },
  {
   "cell_type": "markdown",
   "id": "c0d71b8b",
   "metadata": {},
   "source": [
    "## XOR gate\n",
    "\n",
    "$y = 1$ if $(x_1,x_2)=(1,0)$ or $(0,1)$.\n",
    "\n",
    "**One straight line** cannot produce the XOR gate! (See figure above and think about it.)\n",
    "\n",
    "Then, what about 2 lines? (using multiple perceptrons introduced above.)"
   ]
  },
  {
   "cell_type": "code",
   "execution_count": 18,
   "id": "a68a6d12",
   "metadata": {},
   "outputs": [
    {
     "name": "stdout",
     "output_type": "stream",
     "text": [
      "0\n",
      "1\n",
      "1\n",
      "0\n"
     ]
    }
   ],
   "source": [
    "# XOR gate : combination of NAND, OR, and AND.\n",
    "def XOR(x1,x2):\n",
    "    v1 = NAND(x1,x2)\n",
    "    v2 = OR(x1,x2)\n",
    "    \n",
    "    return AND(v1,v2)\n",
    "\n",
    "test_set = [(0,0), (0,1), (1,0), (1,1)]\n",
    "\n",
    "for x1, x2 in test_set:\n",
    "    print(XOR(x1,x2))"
   ]
  },
  {
   "cell_type": "markdown",
   "id": "a8915784",
   "metadata": {},
   "source": [
    "Using perceptrons, we can make complicated logical circuits. <br>\n",
    "(i.e. Calculator, Encoder(notation 2 to 10), computer(?!), ...) <br>"
   ]
  },
  {
   "cell_type": "code",
   "execution_count": null,
   "id": "2ec9271f",
   "metadata": {},
   "outputs": [],
   "source": []
  }
 ],
 "metadata": {
  "kernelspec": {
   "display_name": "Python 3 (ipykernel)",
   "language": "python",
   "name": "python3"
  },
  "language_info": {
   "codemirror_mode": {
    "name": "ipython",
    "version": 3
   },
   "file_extension": ".py",
   "mimetype": "text/x-python",
   "name": "python",
   "nbconvert_exporter": "python",
   "pygments_lexer": "ipython3",
   "version": "3.8.12"
  }
 },
 "nbformat": 4,
 "nbformat_minor": 5
}
